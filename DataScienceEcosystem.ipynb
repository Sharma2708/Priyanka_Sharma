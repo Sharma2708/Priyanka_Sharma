{
 "cells": [
  {
   "cell_type": "markdown",
   "id": "509195ab-d76f-4ec3-bc2f-6429f9888a68",
   "metadata": {},
   "source": [
    "# Data Science Tools and Ecosystem"
   ]
  },
  {
   "cell_type": "markdown",
   "id": "3ac976a1-d019-4b7f-a76f-419362c0c835",
   "metadata": {},
   "source": [
    "In this notebook, Data Science Tools and Ecosystem are summarized."
   ]
  },
  {
   "cell_type": "markdown",
   "id": "2e5ae828-cef9-4614-aac6-1dbf6bd176a5",
   "metadata": {},
   "source": [
    "Some of the popular languages that Data Scientists use are:\n",
    "1. Python.\n",
    "2. R.\n",
    "3. SQL.\n",
    "4. Java.\n",
    "5. Visual Basic for Applications (VBA)\n",
    "5. Julia.\n",
    "6. Scala.\n",
    "7. C/C++.\n",
    "8. JavaScript.\n",
    "9. SAS.\n",
    "10. MATLAB.\n",
    "11. GO.\n",
    "12. Swift.\n",
    "13. Hadoop."
   ]
  },
  {
   "cell_type": "markdown",
   "id": "70b5f4a5-9076-4d7d-814d-4b1141311964",
   "metadata": {},
   "source": [
    "Some of the commonly used libraries used by Data Scientists include:\n",
    "\n",
    "1. TensorFlow.\n",
    "2. Pandas.\n",
    "3. NumPy.\n",
    "4. Dask\n",
    "5. Matplotlib.\n",
    "6. Keras.\n",
    "7. SciKit-Learn.\n",
    "8. PyTorch.\n",
    "9. Scrapy.\n",
    "10. BeautifulSoup.\n",
    "11. LightGBM.\n",
    "12. ELI5.\n",
    "13. Theano.\n",
    "14. NuPIC.\n",
    "15. Ramp.\n",
    "16. Pipenv.\n",
    "17. Bob.\n",
    "18. PyBrain.\n",
    "19. Caffe2.\n",
    "20. Chainer.\n",
    "21. SciPy.\n",
    "22. Vaex.\n",
    "23. Seaborn.\n",
    "24. Plotly.\n",
    "25. Altair.\n",
    "26. Bokeh.\n",
    "27. XGBoost.\n",
    "28. CatBoost.\n",
    "29. MXNet.\n",
    "30. SpaCy."
   ]
  },
  {
   "cell_type": "markdown",
   "id": "2bd29ba5-aec8-44b2-b5d8-ddff6337502b",
   "metadata": {},
   "source": [
    "|Data Science Tools|\n",
    "|------------------|\n",
    "|TensorFlow|\n",
    "|Project Jupyter|\n",
    "|Apache Spark|\n",
    "|Tableau|\n",
    "|Apache Hadoop|\n",
    "|Scikit-learn|\n",
    "|Python|\n",
    "|Power BI|\n",
    "|SQL|\n",
    "|MATLAB|\n",
    " "
   ]
  },
  {
   "cell_type": "markdown",
   "id": "5a3d4455-f78a-41ca-be77-9c04b95095fd",
   "metadata": {},
   "source": [
    "### Below are a few examples of evaluating arithmetic expressions in Python"
   ]
  },
  {
   "cell_type": "code",
   "execution_count": 20,
   "id": "fc41e3cf-2acc-4cb2-9a66-1f2cc60539de",
   "metadata": {},
   "outputs": [
    {
     "data": {
      "text/plain": [
       "13"
      ]
     },
     "execution_count": 20,
     "metadata": {},
     "output_type": "execute_result"
    }
   ],
   "source": [
    "#Addition\n",
    "5+8"
   ]
  },
  {
   "cell_type": "code",
   "execution_count": 23,
   "id": "ef3c25ee-25d4-4d69-9358-47fd576a1a76",
   "metadata": {},
   "outputs": [
    {
     "data": {
      "text/plain": [
       "40"
      ]
     },
     "execution_count": 23,
     "metadata": {},
     "output_type": "execute_result"
    }
   ],
   "source": [
    "#Multiplication\n",
    "5*8"
   ]
  },
  {
   "cell_type": "code",
   "execution_count": 18,
   "id": "fd74c504-259a-4486-92df-e44c1233b228",
   "metadata": {},
   "outputs": [
    {
     "data": {
      "text/plain": [
       "300"
      ]
     },
     "execution_count": 18,
     "metadata": {},
     "output_type": "execute_result"
    }
   ],
   "source": [
    "##### Subtraction\n",
    "345-45"
   ]
  },
  {
   "cell_type": "code",
   "execution_count": 17,
   "id": "8638c379-0149-429d-ad03-873ca92d3d12",
   "metadata": {},
   "outputs": [
    {
     "data": {
      "text/plain": [
       "50.0"
      ]
     },
     "execution_count": 17,
     "metadata": {},
     "output_type": "execute_result"
    }
   ],
   "source": [
    "#Division\n",
    "100/2"
   ]
  },
  {
   "cell_type": "code",
   "execution_count": 16,
   "id": "b20d3e48-88bb-448a-9728-765883bb5f17",
   "metadata": {},
   "outputs": [
    {
     "data": {
      "text/plain": [
       "1"
      ]
     },
     "execution_count": 16,
     "metadata": {},
     "output_type": "execute_result"
    }
   ],
   "source": [
    "#Modulus.\n",
    "345%43"
   ]
  },
  {
   "cell_type": "code",
   "execution_count": 15,
   "id": "bfce8935-5898-4138-abea-31292fb5bba8",
   "metadata": {},
   "outputs": [
    {
     "data": {
      "text/plain": [
       "17"
      ]
     },
     "execution_count": 15,
     "metadata": {},
     "output_type": "execute_result"
    }
   ],
   "source": [
    "#This a simple arithmetic expression to mutiply then add integers.\n",
    "(3*4)+5"
   ]
  },
  {
   "cell_type": "code",
   "execution_count": 21,
   "id": "a424ad7b-4c58-48ae-8780-f2f5e0cec054",
   "metadata": {},
   "outputs": [
    {
     "data": {
      "text/plain": [
       "3.3333333333333335"
      ]
     },
     "execution_count": 21,
     "metadata": {},
     "output_type": "execute_result"
    }
   ],
   "source": [
    "#This will convert 200 minutes to hours by diving by 60\n",
    "minutes = 200\n",
    "hours = minutes / 60\n",
    "hours"
   ]
  },
  {
   "cell_type": "markdown",
   "id": "c906176c-0d05-479e-90df-8c1c5ce006b3",
   "metadata": {},
   "source": [
    "__Objectives:__\n",
    "* Create markdown cells.\n",
    "* List popular languages for Data Science.\n",
    "* List commonly used libaries for Data Science.\n",
    "* List well Known data science tools.\n",
    "* List commonly used arithmetic expressions.\n",
    "* Add comments to code cell.\n",
    "* Add ordered and unordered lists to markdown cells.\n",
    "* Format content of markdown with heading styles."
   ]
  },
  {
   "cell_type": "markdown",
   "id": "3cb7dd3a-1e63-4e81-afae-587f9d5a7d79",
   "metadata": {},
   "source": [
    "## Author\n",
    "Niveditha Pandith and Lakshmi Holla."
   ]
  },
  {
   "cell_type": "code",
   "execution_count": null,
   "id": "750ea562-d1c8-438b-a60d-3525fc5da1a3",
   "metadata": {},
   "outputs": [],
   "source": []
  }
 ],
 "metadata": {
  "kernelspec": {
   "display_name": "Python 3 (ipykernel)",
   "language": "python",
   "name": "python3"
  },
  "language_info": {
   "codemirror_mode": {
    "name": "ipython",
    "version": 3
   },
   "file_extension": ".py",
   "mimetype": "text/x-python",
   "name": "python",
   "nbconvert_exporter": "python",
   "pygments_lexer": "ipython3",
   "version": "3.11.7"
  }
 },
 "nbformat": 4,
 "nbformat_minor": 5
}
